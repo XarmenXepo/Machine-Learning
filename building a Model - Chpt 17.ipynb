{
 "cells": [
  {
   "cell_type": "markdown",
   "id": "d2ca6b94",
   "metadata": {},
   "source": [
    "# Supervised Learning Model"
   ]
  },
  {
   "cell_type": "code",
   "execution_count": 39,
   "id": "e4990567",
   "metadata": {},
   "outputs": [
    {
     "name": "stdout",
     "output_type": "stream",
     "text": [
      "Training Set Mean Absolute Error: 28759.44\n",
      "Test Set Mean Absolute Error: 165777.61\n"
     ]
    }
   ],
   "source": [
    "# import libraries\n",
    "import pandas as pd\n",
    "from sklearn.model_selection import train_test_split\n",
    "from sklearn import ensemble\n",
    "from sklearn.metrics import mean_absolute_error\n",
    "\n",
    "\n",
    "\n",
    "df = pd.read_csv(\"Melbourne_housing_FULL.csv\")\n",
    "\n",
    "\n",
    "\n",
    "del df[\"Address\"]\n",
    "del df[\"Method\"]\n",
    "del df[\"SellerG\"]\n",
    "del df[\"Date\"]\n",
    "del df[\"Postcode\"]\n",
    "del df[\"Lattitude\"]\n",
    "del df[\"Longtitude\"]\n",
    "del df[\"Regionname\"]\n",
    "del df[\"Propertycount\"]\n",
    "\n",
    "\n",
    "\n",
    "# using dropna to remove rows with missing values\n",
    "df.dropna(axis = 0, how = \"any\", subset = None, inplace = True)\n",
    "\n",
    "\n",
    "\n",
    "# perform one-hot encoding in Pandas suing pd.get_dummies, to convert non-numeric data to numeric values\n",
    "df = pd.get_dummies (df, columns = [\"Suburb\", \"CouncilArea\", \"Type\"])\n",
    "\n",
    "\n",
    "\n",
    "# y is the dependent variable Price, and x are the remaining independent variables\n",
    "X = df.drop(\"Price\", axis=1)\n",
    "y = df[\"Price\"]\n",
    "\n",
    "\n",
    "\n",
    "# splitting data in to a 70/30 training and testing segments using a Scikit-learn command\n",
    "X_train, X_test, y_train, y_test = train_test_split(X, y, test_size = 0.3, shuffle = True)\n",
    "\n",
    "\n",
    "\n",
    "# selecting an algorithm and configuring hyperparameters\n",
    "model =  ensemble.GradientBoostingRegressor(\n",
    "    n_estimators = 150,\n",
    "    learning_rate = 0.1,\n",
    "    max_depth = 30,\n",
    "    min_samples_split = 4,\n",
    "    min_samples_leaf = 6,\n",
    "    max_features = 0.6,\n",
    "    loss = \"huber\"\n",
    ")\n",
    "\n",
    "\n",
    "\n",
    "# using the fit() function to link the training data to the above algorithm\n",
    "model.fit(X_train, y_train)\n",
    "\n",
    "\n",
    "\n",
    "# using Scikit-learn predict() function to compare the training and testing data, using mean absolute error\n",
    "mae_train = mean_absolute_error(y_train, model.predict(X_train))\n",
    "print(\"Training Set Mean Absolute Error: %.2f\" % mae_train)\n",
    "\n",
    "mae_test = mean_absolute_error(y_test, model.predict(X_test))\n",
    "print(\"Test Set Mean Absolute Error: %.2f\" % mae_test)\n",
    "# a high discrepancy between training and test data is usually indicator of overfitting\n",
    "# an example of this issue here was setting the max_depth to 30"
   ]
  }
 ],
 "metadata": {
  "kernelspec": {
   "display_name": "Python 3 (ipykernel)",
   "language": "python",
   "name": "python3"
  },
  "language_info": {
   "codemirror_mode": {
    "name": "ipython",
    "version": 3
   },
   "file_extension": ".py",
   "mimetype": "text/x-python",
   "name": "python",
   "nbconvert_exporter": "python",
   "pygments_lexer": "ipython3",
   "version": "3.11.4"
  }
 },
 "nbformat": 4,
 "nbformat_minor": 5
}
